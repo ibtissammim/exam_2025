{
  "cells": [
    {
      "cell_type": "markdown",
      "metadata": {
        "id": "_CACBFsndOCo"
      },
      "source": [
        "# Exercices"
      ]
    },
    {
      "cell_type": "markdown",
      "source": [
        "## **Préliminaires**: Clone de votre repo et imports"
      ],
      "metadata": {
        "id": "hfkMtaHleKAa"
      }
    },
    {
      "cell_type": "code",
      "source": [
        "! git clone https://github.com/ibtissammim/exam_2025.git\n",
        "! cp exam_2025/utils/utils_exercices.py .\n",
        "\n",
        "import copy\n",
        "import numpy as np\n",
        "import torch"
      ],
      "metadata": {
        "id": "xiD_cI-geJjI",
        "outputId": "90681d95-d58c-4fbd-e08b-f5057267f28e",
        "colab": {
          "base_uri": "https://localhost:8080/"
        }
      },
      "execution_count": 1,
      "outputs": [
        {
          "output_type": "stream",
          "name": "stdout",
          "text": [
            "Cloning into 'exam_2025'...\n",
            "remote: Enumerating objects: 67, done.\u001b[K\n",
            "remote: Counting objects: 100% (14/14), done.\u001b[K\n",
            "remote: Compressing objects: 100% (9/9), done.\u001b[K\n",
            "remote: Total 67 (delta 7), reused 5 (delta 5), pack-reused 53 (from 1)\u001b[K\n",
            "Receiving objects: 100% (67/67), 2.24 MiB | 9.41 MiB/s, done.\n",
            "Resolving deltas: 100% (19/19), done.\n"
          ]
        }
      ]
    },
    {
      "cell_type": "markdown",
      "source": [
        "**Clef personnelle pour la partie théorique**\n",
        "\n",
        "Dans la cellule suivante, choisir un entier entre 100 et 1000 (il doit être personnel). Cet entier servira de graine au générateur de nombres aléatoire a conserver pour tous les exercices.\n",
        "\n"
      ],
      "metadata": {
        "id": "J3ga_6BNc5DR"
      }
    },
    {
      "cell_type": "code",
      "source": [
        "mySeed = 350"
      ],
      "metadata": {
        "id": "PrCTHM4od5UZ"
      },
      "execution_count": 2,
      "outputs": []
    },
    {
      "cell_type": "markdown",
      "source": [
        "\\\n",
        "\n",
        "---\n",
        "\n",
        "\\"
      ],
      "metadata": {
        "id": "TRWBLVpCWC06"
      }
    },
    {
      "cell_type": "markdown",
      "metadata": {
        "id": "t5RcggmAkJLV"
      },
      "source": [
        "\\\n",
        "\n",
        "**Exercice 1** *Une relation linéaire*\n",
        "\n",
        "La fonction *generate_dataset* fournit deux jeux de données (entraînement et test). Pour chaque jeu de données, la clef 'inputs' donne accès à un tableau numpy (numpy array) de prédicteurs empilés horizontalement : chaque ligne $i$ contient trois prédicteurs $x_i$, $y_i$ et $z_i$. La clef 'targets' renvoie le vecteur des cibles $t_i$. \\\n",
        "\n",
        "Les cibles sont liées aux prédicteurs par le modèle:\n",
        "$$ t = \\theta_0 + \\theta_1 x + \\theta_2 y + \\theta_3 z + \\epsilon$$ où $\\epsilon \\sim \\mathcal{N}(0,\\eta)$\n"
      ]
    },
    {
      "cell_type": "code",
      "source": [
        "from utils_exercices import generate_dataset, Dataset1\n",
        "train_set, test_set = generate_dataset(mySeed)"
      ],
      "metadata": {
        "id": "gEQmgTI8my8i"
      },
      "execution_count": 3,
      "outputs": []
    },
    {
      "cell_type": "markdown",
      "source": [
        "**Q1** Par quelle méthode simple peut-on estimer les coefficients $\\theta_k$ ? La mettre en oeuvre avec la librairie python de votre choix."
      ],
      "metadata": {
        "id": "q5XZTrXNk12K"
      }
    },
    {
      "cell_type": "code",
      "source": [
        "import numpy as np\n",
        "#La méthode simple pour estimer les coefficients θk dans un modèle linéaire est la régression linéaire par les moindres carrés ordinaires (MCO).\n",
        "#Implémentation en Python avec NumPy :\n",
        "# Charger les données d'entraînement\n",
        "X = train_set['inputs']  # Matrice des prédicteurs\n",
        "y = train_set['targets']  # Vecteur des cibles\n",
        "\n",
        "# Ajouter une colonne de 1 à X pour le terme constant θ₀\n",
        "X = np.c_[np.ones(X.shape[0]), X]\n",
        "\n",
        "# Calculer les coefficients θk en utilisant la formule des MCO\n",
        "theta_hat = np.linalg.solve(X.T @ X, X.T @ y)\n",
        "\n",
        "# Afficher les coefficients estimés\n",
        "print(f\"Coefficients estimés : {theta_hat}\")"
      ],
      "metadata": {
        "id": "HITtUqHhFMkn",
        "outputId": "ca416994-eb78-4a59-b354-d1f252e3bed1",
        "colab": {
          "base_uri": "https://localhost:8080/"
        }
      },
      "execution_count": 4,
      "outputs": [
        {
          "output_type": "stream",
          "name": "stdout",
          "text": [
            "Coefficients estimés : [17.43049692  3.44301622  3.59207667  7.17464915]\n"
          ]
        }
      ]
    },
    {
      "cell_type": "markdown",
      "source": [],
      "metadata": {
        "id": "MXGXg8tlPULY"
      }
    },
    {
      "cell_type": "markdown",
      "source": [
        "**Q2** Dans les cellules suivantes, on se propose d'estimer les $\\theta_k$ grâce à un réseau de neurones entraîné par SGD. Quelle architecture s'y prête ? Justifier en termes d'expressivité et de performances en généralisation puis la coder dans la cellule suivante."
      ],
      "metadata": {
        "id": "CH_Z5ZEIlQPE"
      }
    },
    {
      "cell_type": "code",
      "source": [
        "import torch.nn as nn\n",
        "# Dataset et dataloader :\n",
        "dataset = Dataset1(train_set['inputs'], train_set['targets'])\n",
        "dataloader = torch.utils.data.DataLoader(dataset, batch_size=100, shuffle=True)\n",
        "\n",
        "# A coder :\n",
        "class SimpleNet(nn.Module):\n",
        "    def __init__(self):\n",
        "        super(SimpleNet, self).__init__()\n",
        "        self.linear = nn.Linear(3, 1) # 3 entrées (x, y, z) et 1 sortie (t)\n",
        "\n",
        "    def forward(self, x):\n",
        "        return self.linear(x)"
      ],
      "metadata": {
        "id": "PPx543blnxdb"
      },
      "execution_count": 6,
      "outputs": []
    },
    {
      "cell_type": "markdown",
      "source": [
        "**Q3** Entraîner cette architecture à la tâche de régression définie par les entrées et sorties du jeu d'entraînement (compléter la cellule ci-dessous)."
      ],
      "metadata": {
        "id": "g6BSTBitpGBD"
      }
    },
    {
      "cell_type": "code",
      "source": [
        "# Initialize model, loss, and optimizer\n",
        "mySimpleNet = SimpleNet()\n",
        "criterion = nn.MSELoss()\n",
        "\n",
        "\n",
        "# Optimisation avec Adam\n",
        "optimizer = torch.optim.Adam(mySimpleNet.parameters(), lr=0.01)\n",
        "\n",
        "# Training loop\n",
        "num_epochs = 1000\n",
        "for epoch in range(num_epochs):\n",
        "    for batch_inputs, batch_targets in dataloader:\n",
        "\n",
        "      # Zero the gradients\n",
        "        optimizer.zero_grad()\n",
        "\n",
        "        # Forward pass\n",
        "        outputs = mySimpleNet(batch_inputs)\n",
        "        # Reformater batch_targets\n",
        "        batch_targets = batch_targets.view(-1, 1)  # ou .unsqueeze(1)\n",
        "        loss = criterion(outputs, batch_targets)\n",
        "\n",
        "        # Backward pass and optimization\n",
        "        loss.backward()\n",
        "        optimizer.step()\n",
        "\n",
        "    # Print progress (optional)\n",
        "    if (epoch+1) % 50 == 0:\n",
        "        print(f'Epoch [{epoch+1}/{num_epochs}], Loss: {loss.item():.4f}')"
      ],
      "metadata": {
        "id": "Wjfa2Z4RoPO-",
        "outputId": "2c80a648-e8e3-4e0e-834f-8a564115c034",
        "colab": {
          "base_uri": "https://localhost:8080/"
        }
      },
      "execution_count": 18,
      "outputs": [
        {
          "output_type": "stream",
          "name": "stdout",
          "text": [
            "Epoch [50/1000], Loss: 225.2488\n",
            "Epoch [100/1000], Loss: 90.3679\n",
            "Epoch [150/1000], Loss: 33.8583\n",
            "Epoch [200/1000], Loss: 14.5070\n",
            "Epoch [250/1000], Loss: 10.3194\n",
            "Epoch [300/1000], Loss: 7.2576\n",
            "Epoch [350/1000], Loss: 5.4750\n",
            "Epoch [400/1000], Loss: 4.2758\n",
            "Epoch [450/1000], Loss: 3.4151\n",
            "Epoch [500/1000], Loss: 2.8871\n",
            "Epoch [550/1000], Loss: 4.2548\n",
            "Epoch [600/1000], Loss: 3.8551\n",
            "Epoch [650/1000], Loss: 4.3257\n",
            "Epoch [700/1000], Loss: 3.8962\n",
            "Epoch [750/1000], Loss: 5.1113\n",
            "Epoch [800/1000], Loss: 3.5526\n",
            "Epoch [850/1000], Loss: 4.9035\n",
            "Epoch [900/1000], Loss: 3.9349\n",
            "Epoch [950/1000], Loss: 4.5287\n",
            "Epoch [1000/1000], Loss: 4.1514\n"
          ]
        }
      ]
    },
    {
      "cell_type": "markdown",
      "source": [
        "**Q4** Où sont alors stockées les estimations des  $\\theta_k$ ? Les extraire du réseau *mySimpleNet* dans la cellule suivante."
      ],
      "metadata": {
        "id": "OZwKogEEp2Fr"
      }
    },
    {
      "cell_type": "code",
      "source": [
        "# Extraire les poids (θ₁, θ₂, θ₃)\n",
        "weights = mySimpleNet.linear.weight.data\n",
        "theta_1 = weights[0, 0].item()\n",
        "theta_2 = weights[0, 1].item()\n",
        "theta_3 = weights[0, 2].item()\n",
        "\n",
        "# Extraire le biais (θ₀)\n",
        "bias = mySimpleNet.linear.bias.data\n",
        "theta_0 = bias[0].item()\n",
        "\n",
        "# Afficher les estimations\n",
        "print(f\"θ₀ = {theta_0:.4f}\")\n",
        "print(f\"θ₁ = {theta_1:.4f}\")\n",
        "print(f\"θ₂ = {theta_2:.4f}\")\n",
        "print(f\"θ₃ = {theta_3:.4f}\")"
      ],
      "metadata": {
        "id": "EjgWp1y1rseb",
        "outputId": "f5bee067-5c10-4352-f414-8c2ea1dcabef",
        "colab": {
          "base_uri": "https://localhost:8080/"
        }
      },
      "execution_count": 19,
      "outputs": [
        {
          "output_type": "stream",
          "name": "stdout",
          "text": [
            "θ₀ = 17.4299\n",
            "θ₁ = 3.4450\n",
            "θ₂ = 3.6006\n",
            "θ₃ = 7.1686\n"
          ]
        }
      ]
    },
    {
      "cell_type": "markdown",
      "source": [
        "**Q5** Tester ces estimations sur le jeu de test et comparer avec celles de la question 1. Commentez."
      ],
      "metadata": {
        "id": "pEB-V-oOrJED"
      }
    },
    {
      "cell_type": "code",
      "source": [
        "# Charger les données de test\n",
        "X_test = test_set['inputs']\n",
        "y_test = test_set['targets']\n",
        "\n",
        "# Ajouter une colonne de 1 à X_test pour le terme constant θ₀\n",
        "X_test = np.c_[np.ones(X_test.shape[0]), X_test]\n",
        "\n",
        "# Prédictions avec les estimations de la question 1 (MCO)\n",
        "y_pred_mco = X_test @ theta_hat  # theta_hat est obtenu à la question 1\n",
        "\n",
        "# Prédictions avec les estimations du réseau de neurones\n",
        "X_test_tensor = torch.tensor(X_test[:, 1:], dtype=torch.float32)  # Convertir en tenseur PyTorch\n",
        "y_pred_nn = mySimpleNet(X_test_tensor).detach().numpy().flatten()  # Prédictions du réseau\n",
        "\n",
        "# Calculer l'erreur quadratique moyenne (MSE) pour les deux méthodes\n",
        "mse_mco = np.mean((y_test - y_pred_mco)**2)\n",
        "mse_nn = np.mean((y_test - y_pred_nn)**2)\n",
        "\n",
        "# Afficher les résultats\n",
        "print(f\"MSE (MCO) : {mse_mco:.4f}\")\n",
        "print(f\"MSE (Réseau de neurones) : {mse_nn:.4f}\")\n",
        "\n",
        "# Comparer les estimations des coefficients\n",
        "print(\"\\nCoefficients estimés (MCO) :\", theta_hat)\n",
        "print(\"Coefficients estimés (Réseau de neurones) :\", [theta_0, theta_1, theta_2, theta_3])"
      ],
      "metadata": {
        "id": "x6qqhBmhpwMp",
        "outputId": "5e0410a2-4613-42b8-91ed-d70c53b6c0ae",
        "colab": {
          "base_uri": "https://localhost:8080/"
        }
      },
      "execution_count": 20,
      "outputs": [
        {
          "output_type": "stream",
          "name": "stdout",
          "text": [
            "MSE (MCO) : 4.0556\n",
            "MSE (Réseau de neurones) : 4.0559\n",
            "\n",
            "Coefficients estimés (MCO) : [17.43049692  3.44301622  3.59207667  7.17464915]\n",
            "Coefficients estimés (Réseau de neurones) : [17.429948806762695, 3.444969654083252, 3.600615978240967, 7.168612003326416]\n"
          ]
        }
      ]
    },
    {
      "cell_type": "markdown",
      "source": [
        "Le réseau de neurones, avec une architecture simple et un entraînement adéquat, a réussi à reproduire les résultats de la régression MCO pour cette relation linéaire, démontrant sa capacité d'apprentissage et de généralisation."
      ],
      "metadata": {
        "id": "tD0FVcz0rdrg"
      }
    },
    {
      "cell_type": "code",
      "source": [],
      "metadata": {
        "id": "T7pUAdRErdNI"
      },
      "execution_count": null,
      "outputs": []
    },
    {
      "cell_type": "markdown",
      "source": [
        "\\\n",
        "\n",
        "---\n",
        "\n",
        "\\"
      ],
      "metadata": {
        "id": "VvV2jIrBNtzf"
      }
    },
    {
      "cell_type": "markdown",
      "source": [
        "**Exercice 2** *Champ réceptif et prédiction causale*"
      ],
      "metadata": {
        "id": "CpRvXCaAtsIN"
      }
    },
    {
      "cell_type": "markdown",
      "source": [
        "Le réseau défini dans la cellule suivante est utilisé pour faire le lien entre les valeurs $(x_{t' \\leq t})$ d'une série temporelle d'entrée et la valeur présente $y_t$ d'une série temporelle cible."
      ],
      "metadata": {
        "id": "8JG9wTfK5TBd"
      }
    },
    {
      "cell_type": "code",
      "source": [
        "import torch.nn as nn\n",
        "import torch.nn.functional as F\n",
        "from utils_exercices import Outconv, Up_causal, Down_causal\n",
        "\n",
        "class Double_conv_causal(nn.Module):\n",
        "    '''(conv => BN => ReLU) * 2, with causal convolutions that preserve input size'''\n",
        "    def __init__(self, in_ch, out_ch, kernel_size=3, dilation=1):\n",
        "        super(Double_conv_causal, self).__init__()\n",
        "        self.kernel_size = kernel_size\n",
        "        self.dilation = dilation\n",
        "        self.conv1 = nn.Conv1d(in_ch, out_ch, kernel_size=kernel_size, padding=0, dilation=dilation)\n",
        "        self.bn1 = nn.BatchNorm1d(out_ch)\n",
        "        self.relu = nn.ReLU(inplace=True)\n",
        "        self.conv2 = nn.Conv1d(out_ch, out_ch, kernel_size=kernel_size, padding=0, dilation=dilation)\n",
        "        self.bn2 = nn.BatchNorm1d(out_ch)\n",
        "\n",
        "    def forward(self, x):\n",
        "        x = F.pad(x, ((self.kernel_size - 1) * self.dilation, 0))\n",
        "        x = self.conv1(x)\n",
        "        x = self.bn1(x)\n",
        "        x = self.relu(x)\n",
        "\n",
        "        x = F.pad(x, ((self.kernel_size - 1) * self.dilation, 0))\n",
        "        x = self.conv2(x)\n",
        "        x = self.bn2(x)\n",
        "        x = self.relu(x)\n",
        "        return x\n",
        "\n",
        "\n",
        "class causalFCN(nn.Module):\n",
        "    def __init__(self, dilation=1):\n",
        "        super(causalFCN, self).__init__()\n",
        "        size = 64\n",
        "        n_channels = 1\n",
        "        n_classes = 1\n",
        "        self.inc = Double_conv_causal(n_channels, size)\n",
        "        self.down1 = Down_causal(size, 2*size)\n",
        "        self.down2 = Down_causal(2*size, 4*size)\n",
        "        self.down3 = Down_causal(4*size, 8*size, pooling_kernel_size=5, pooling_stride=5)\n",
        "        self.down4 = Down_causal(8*size, 4*size, pooling=False, dilation=2)\n",
        "        self.up2 = Up_causal(4*size, 2*size, kernel_size=5, stride=5)\n",
        "        self.up3 = Up_causal(2*size, size)\n",
        "        self.up4 = Up_causal(size, size)\n",
        "        self.outc = Outconv(size, n_classes)\n",
        "        self.n_classes = n_classes\n",
        "\n",
        "    def forward(self, x):\n",
        "        x1 = self.inc(x)\n",
        "        x2 = self.down1(x1)\n",
        "        x3 = self.down2(x2)\n",
        "        x4 = self.down3(x3)\n",
        "        x5 = self.down4(x4)\n",
        "        x = self.up2(x5, x3)\n",
        "        x = self.up3(x, x2)\n",
        "        x = self.up4(x, x1)\n",
        "        x = self.outc(x)\n",
        "        return x\n",
        "\n",
        "# Exemple d'utilisation\n",
        "model = causalFCN()\n",
        "# Série temporelle d'entrée (x_t):\n",
        "input_tensor1 = torch.rand(1, 1, 10000)\n",
        "# Série temporelle en sortie f(x_t):\n",
        "output = model(input_tensor1)\n",
        "print(output.shape)"
      ],
      "metadata": {
        "id": "fIbU1EJT1MM9",
        "outputId": "3c928fc6-6673-4d64-f452-c9dfeb54f82f",
        "colab": {
          "base_uri": "https://localhost:8080/"
        }
      },
      "execution_count": 21,
      "outputs": [
        {
          "output_type": "stream",
          "name": "stdout",
          "text": [
            "torch.Size([1, 1, 10000])\n"
          ]
        }
      ]
    },
    {
      "cell_type": "markdown",
      "source": [
        "**Q1** De quel type de réseau de neurones s'agit-il ? Combien de paramètres la couche self.Down1 compte-t-elle (à faire à la main) ?\n",
        "Combien de paramètres le réseau entier compte-t-il (avec un peu de code) ?"
      ],
      "metadata": {
        "id": "-mNnsYU-7R7N"
      }
    },
    {
      "cell_type": "code",
      "source": [
        "\n",
        "# Q1: Type de réseau de neurones\n",
        "# Il s'agit d'un réseau de neurones convolutif à une dimension (1D CNN)\n",
        "# avec une architecture FCN (Fully Convolutional Network) et des convolutions causales.\n",
        "# Il est conçu pour traiter des données temporelles.\n",
        "\n",
        "\n",
        "# Calcul du nombre de paramètres de self.Down1 à la main:\n",
        "# self.Down1 est une couche Down_causal avec les paramètres suivants :\n",
        "#   - in_ch = 64\n",
        "#   - out_ch = 128\n",
        "# La couche Down_causal contient :\n",
        "#  - une convolution 1D : 64 * 128 filtres de taille 4, plus un biais par filtre\n",
        "#    soit 64*128*4 + 128 paramètres\n",
        "#  - une couche de max pooling 1D avec un noyau de taille 2 et un pas de 2. (pas de paramètre)\n",
        "\n",
        "# Donc, le nombre de paramètres dans self.Down1 est :\n",
        "# (64 * 128 * 4) + 128 = 32768 + 128 = 32896\n",
        "\n",
        "print(\"Nombre de paramètres dans self.Down1 :\", 32896)\n",
        "\n",
        "\n",
        "# Calcul du nombre total de paramètres du réseau :\n",
        "model = causalFCN()\n",
        "total_params = sum(p.numel() for p in model.parameters() if p.requires_grad)\n",
        "print(\"Nombre total de paramètres dans le réseau :\", total_params)"
      ],
      "metadata": {
        "id": "G3249J09skfK",
        "outputId": "3970c9ae-4a85-4117-bd28-cb2c0fff6890",
        "colab": {
          "base_uri": "https://localhost:8080/"
        }
      },
      "execution_count": 22,
      "outputs": [
        {
          "output_type": "stream",
          "name": "stdout",
          "text": [
            "Nombre de paramètres dans self.Down1 : 32896\n",
            "Nombre total de paramètres dans le réseau : 2872641\n"
          ]
        }
      ]
    },
    {
      "cell_type": "code",
      "source": [
        "# Nb de paramètres dans self.Down1: (calcul \"à la main\")\n",
        "\n",
        "# Nb de paramètres au total:"
      ],
      "metadata": {
        "id": "qlYxUf6U9vH1"
      },
      "execution_count": null,
      "outputs": []
    },
    {
      "cell_type": "markdown",
      "source": [
        "**Q2** Par quels mécanismes la taille du vecteur d'entrée est-elle réduite ? Comment est-elle restituée dans la deuxième partie du réseau ?"
      ],
      "metadata": {
        "id": "I4D46A0-8LaV"
      }
    },
    {
      "cell_type": "code",
      "source": [
        "\n",
        "\n",
        "# La taille du vecteur d'entrée est réduite par deux mécanismes principaux dans ce réseau :\n",
        "\n",
        "# 1. Les convolutions 1D avec un noyau de taille > 1 et un padding < (kernel_size -1) : Chaque convolution réduit la taille de la séquence temporelle.\n",
        "#    Dans ce réseau, le padding est toujours nul, et le kernel\\_size est de taille 3 ou 5, cela entraine donc une reduction de la taille de la séquence.\n",
        "\n",
        "# 2. Le max-pooling 1D : Cette opération réduit la taille du vecteur d'entrée en ne conservant que la valeur maximale dans une fenêtre glissante.\n",
        "#    L'effet de réduction est déterminée par pooling_kernel_size et pooling_stride.\n",
        "\n",
        "# La taille du vecteur est restituée dans la deuxième partie du réseau (partie \"up\") par :\n",
        "\n",
        "# 1. Les opérations de Transposed Convolution (Up_causal): Ces opérations augmentent progressivement la taille du vecteur.\n",
        "#    L'opération de upsampling est combinée à une convolution pour reconstruire l'information perdue pendant le downsampling.\n",
        "\n",
        "# 2. Le concaténation avec les sorties correspondantes de la partie \"downsampling\" : Avant chaque opération de transposed convolution, l'activation courante est concaténée à la sortie de la couche correspondante dans la partie downsampling. Cela permet de fournir au décodeur des informations contextuelles à différentes échelles, ce qui améliore la reconstruction du vecteur et aide à recréer la taille d'origine.\n",
        "#    L'opération permet de fournir au décodeur des informations contextuelles à différentes échelles.\n",
        "\n"
      ],
      "metadata": {
        "id": "6v83WAVatKxY"
      },
      "execution_count": null,
      "outputs": []
    },
    {
      "cell_type": "markdown",
      "source": [
        "**Q3** Par quels mécanismes le champ réceptif est-il augmenté ? Préciser par un calcul la taille du champ réceptif en sortie de *self.inc*."
      ],
      "metadata": {
        "id": "SVNeFnm88yV2"
      }
    },
    {
      "cell_type": "markdown",
      "source": [
        "**Q4** Par un bout de code, déterminer empiriquement la taille du champ réceptif associé à la composante $y_{5000}$ du vecteur de sortie. (Indice: considérer les sorties associées à deux inputs qui ne diffèrent que par une composante...)"
      ],
      "metadata": {
        "id": "TVVcBPuA9EP0"
      }
    },
    {
      "cell_type": "code",
      "source": [],
      "metadata": {
        "id": "69WMWCSZAg5_"
      },
      "execution_count": null,
      "outputs": []
    },
    {
      "cell_type": "markdown",
      "source": [
        "**Q5** $y_{5000}$ dépend-elle des composantes $x_{t, \\space t > 5000}$ ? Justifier de manière empirique puis préciser la partie du code de Double_conv_causal qui garantit cette propriété de \"causalité\" en justifiant.  \n",
        "\n"
      ],
      "metadata": {
        "id": "gZ37skwm-Vpv"
      }
    },
    {
      "cell_type": "code",
      "source": [],
      "metadata": {
        "id": "PeooRYE-ATGt"
      },
      "execution_count": null,
      "outputs": []
    },
    {
      "cell_type": "markdown",
      "source": [
        "\\\n",
        "\n",
        "---\n",
        "\n",
        "\\"
      ],
      "metadata": {
        "id": "qV52tusgNn6A"
      }
    },
    {
      "cell_type": "markdown",
      "source": [
        "\\\n",
        "\n",
        "Exercice 3: \"Ranknet loss\""
      ],
      "metadata": {
        "id": "bm-sRzmfqc2m"
      }
    },
    {
      "cell_type": "markdown",
      "source": [
        "Un [article récent](https://https://arxiv.org/abs/2403.14144) revient sur les progrès en matière de learning to rank. En voilà un extrait :"
      ],
      "metadata": {
        "id": "Wl8wUjsSM57D"
      }
    },
    {
      "cell_type": "markdown",
      "source": [
        "\n",
        "<img src=\"https://raw.githubusercontent.com/nanopiero/exam_2025/refs/heads/main/utils/png_exercice3.PNG?token=GHSAT0AAAAAAC427DACOPGNDNN6UDOLVLLAZ4BB2JQ\" alt=\"extrait d'un article\" width=\"800\">"
      ],
      "metadata": {
        "id": "SDZUXMlSDpoe"
      }
    },
    {
      "cell_type": "markdown",
      "source": [
        "**Q1** Qu'est-ce que les auteurs appellent \"positive samples\" et \"negative samples\" ? Donner un exemple."
      ],
      "metadata": {
        "id": "9NzV1PbMNyuo"
      }
    },
    {
      "cell_type": "markdown",
      "source": [
        "**Q2** Dans l'expression de $\\mathcal{L}_{RankNet}$, d'où proviennent les $z_i$ ? Que représentent-ils ?  "
      ],
      "metadata": {
        "id": "yIKQ5Eo9OnPq"
      }
    },
    {
      "cell_type": "markdown",
      "source": [
        "**Q3** Pourquoi cette expression conduit-elle à ce que, après apprentissage, \"the estimated\n",
        "value of positive samples is greater than that of negative samples\n",
        "for each pair of positive/negative samples\" ?"
      ],
      "metadata": {
        "id": "r74fWiyvPb7Q"
      }
    },
    {
      "cell_type": "markdown",
      "source": [
        "**Q4** Dans le cadre d'une approche par deep learning, quels termes utilise-t-on pour qualifier les réseaux de neurones exploités et la modalité suivant laquelle ils sont entraînés ?"
      ],
      "metadata": {
        "id": "pk1EIi_VVi3R"
      }
    }
  ],
  "metadata": {
    "colab": {
      "provenance": []
    },
    "kernelspec": {
      "display_name": "Python 3",
      "name": "python3"
    }
  },
  "nbformat": 4,
  "nbformat_minor": 0
}